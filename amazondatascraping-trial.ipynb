{
 "cells": [
  {
   "cell_type": "markdown",
   "id": "b1a6eae8",
   "metadata": {},
   "source": [
    "The purpose of this project is to scrape data from the amazon website and convert it into a CSV file."
   ]
  },
  {
   "cell_type": "code",
   "execution_count": 1,
   "id": "7bb40fe3",
   "metadata": {},
   "outputs": [],
   "source": [
    "#!pip install bs4 #install beautiful soup - pass html code and find elements inside it.\n",
    "#!pip install requests"
   ]
  },
  {
   "cell_type": "code",
   "execution_count": 2,
   "id": "f6f14f10",
   "metadata": {},
   "outputs": [],
   "source": [
    "from bs4 import BeautifulSoup\n",
    "import requests\n",
    "import pandas as pd"
   ]
  },
  {
   "cell_type": "code",
   "execution_count": 3,
   "id": "5a4d5891",
   "metadata": {},
   "outputs": [],
   "source": [
    "URL = \"https://www.amazon.ca/s?k=school+bag&i=todays-deals&crid=2DASOJQY1V355&sprefix=school+bag%2Ctodays-deals%2C83&ref=nb_sb_noss_1\""
   ]
  },
  {
   "cell_type": "code",
   "execution_count": 4,
   "id": "173b4c9d",
   "metadata": {},
   "outputs": [],
   "source": [
    "#Headers for Request\n",
    "HEADERS = ({'User-Agent':'Mozilla/5.0 (Macintosh; Intel Mac OS X 10_15_7) AppleWebKit/537.36 (KHTML, like Gecko) Chrome/115.0.0.0 Safari/537.36',\n",
    "            'Accept-Language':'en-US,en;q=0.5'\n",
    "           })"
   ]
  },
  {
   "cell_type": "code",
   "execution_count": 5,
   "id": "a7086ed4",
   "metadata": {},
   "outputs": [
    {
     "data": {
      "text/plain": [
       "<Response [200]>"
      ]
     },
     "execution_count": 5,
     "metadata": {},
     "output_type": "execute_result"
    }
   ],
   "source": [
    "#HHTP Request\n",
    "webpage = requests.get(URL, headers = HEADERS)\n",
    "webpage"
   ]
  },
  {
   "cell_type": "code",
   "execution_count": 6,
   "id": "61d4f10f",
   "metadata": {},
   "outputs": [],
   "source": [
    "#soup object containing all the data\n",
    "soup = BeautifulSoup(webpage.content, \"html.parser\")"
   ]
  },
  {
   "cell_type": "code",
   "execution_count": 7,
   "id": "e30227ad",
   "metadata": {},
   "outputs": [],
   "source": [
    "#Fetch all links as List of Tag Objects\n",
    "links = soup.find_all(\"a\", attrs={'class': 'a-link-normal s-underline-text s-underline-link-text s-link-style a-text-normal'\n",
    "                        })"
   ]
  },
  {
   "cell_type": "code",
   "execution_count": 12,
   "id": "c00f06b4",
   "metadata": {},
   "outputs": [],
   "source": [
    "#links\n",
    "link = links[0].get('href') # to extract the link"
   ]
  },
  {
   "cell_type": "code",
   "execution_count": 14,
   "id": "fa2a6cea",
   "metadata": {},
   "outputs": [
    {
     "data": {
      "text/plain": [
       "'https://amazon.ca/sspa/click?ie=UTF8&spc=MTozNDAyNjkzMTg2ODI2ODAwOjE2OTE4NTQwMTU6c3BfYXRmOjIwMDAxNDEzMjg4NDQ3MTo6MDo6&url=%2FAmazonBasics-Backpack-Laptops-up-17-inches%2Fdp%2FB00EEBS9O0%2Fref%3Dsr_1_1_ffob_sspa%3Fcrid%3D2DASOJQY1V355%26keywords%3Dschool%2Bbag%26qid%3D1691854015%26sprefix%3Dschool%2Bbag%252Ctodays-deals%252C83%26sr%3D8-1-spons%26sp_csd%3Dd2lkZ2V0TmFtZT1zcF9hdGY%26psc%3D1'"
      ]
     },
     "execution_count": 14,
     "metadata": {},
     "output_type": "execute_result"
    }
   ],
   "source": [
    "product_list = \"https://amazon.ca\" + link"
   ]
  },
  {
   "cell_type": "code",
   "execution_count": null,
   "id": "59f46b75",
   "metadata": {},
   "outputs": [],
   "source": [
    "\n"
   ]
  }
 ],
 "metadata": {
  "kernelspec": {
   "display_name": "Python 3 (ipykernel)",
   "language": "python",
   "name": "python3"
  },
  "language_info": {
   "codemirror_mode": {
    "name": "ipython",
    "version": 3
   },
   "file_extension": ".py",
   "mimetype": "text/x-python",
   "name": "python",
   "nbconvert_exporter": "python",
   "pygments_lexer": "ipython3",
   "version": "3.10.9"
  }
 },
 "nbformat": 4,
 "nbformat_minor": 5
}
