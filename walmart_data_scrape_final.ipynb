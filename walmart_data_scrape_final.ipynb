{
 "cells": [
  {
   "cell_type": "code",
   "execution_count": 1,
   "id": "040ff73b",
   "metadata": {},
   "outputs": [],
   "source": [
    "from bs4 import BeautifulSoup\n",
    "from selenium import webdriver\n",
    "import pandas as pd\n",
    "import csv"
   ]
  },
  {
   "cell_type": "code",
   "execution_count": 2,
   "id": "db6448d0",
   "metadata": {},
   "outputs": [],
   "source": [
    "#Connect to Website\n",
    "URL = \"https://www.walmart.ca/search?q=stroller%20for%20baby&c=10002&f=51+52+53+40601+13&price=60-99999\"\n",
    "#Load Website \n",
    "browser = webdriver.Chrome()\n",
    "#HHTP Request\n",
    "browser.get(URL)\n",
    "soup = BeautifulSoup(browser.page_source, \"html.parser\")\n",
    "soup2 = BeautifulSoup(soup.prettify(),\"html.parser\")"
   ]
  },
  {
   "cell_type": "code",
   "execution_count": 3,
   "id": "6472af8b",
   "metadata": {},
   "outputs": [
    {
     "data": {
      "text/plain": [
       "12"
      ]
     },
     "execution_count": 3,
     "metadata": {},
     "output_type": "execute_result"
    }
   ],
   "source": [
    "#Get Product Titles\n",
    "pdctnames = []\n",
    "def get_product_name(soup):\n",
    "    titles = soup.find_all(\"p\" ,attrs = {'class':'css-1p4va6y eudvd6x0'})\n",
    "    for t in titles:\n",
    "        pdctnames.append(t.text.strip())\n",
    "    return pdctnames\n",
    "names = get_product_name(soup2)\n",
    "len(names)"
   ]
  },
  {
   "cell_type": "code",
   "execution_count": 4,
   "id": "f56cf29f",
   "metadata": {},
   "outputs": [
    {
     "data": {
      "text/plain": [
       "12"
      ]
     },
     "execution_count": 4,
     "metadata": {},
     "output_type": "execute_result"
    }
   ],
   "source": [
    "#Get Product Prices\n",
    "pdctprices = []\n",
    "def get_product_price(soup):\n",
    "    prices = soup.find_all(\"span\" ,attrs = {'class':'css-2vqe5n esdkp3p0', 'data-automation':\"current-price\"})\n",
    "    for p in prices:\n",
    "        pdctprices.append(p.text.strip())\n",
    "    return pdctprices\n",
    "prices = get_product_price(soup2)\n",
    "prices\n",
    "len(prices)"
   ]
  },
  {
   "cell_type": "code",
   "execution_count": 5,
   "id": "1d3f6b7c",
   "metadata": {},
   "outputs": [
    {
     "data": {
      "text/plain": [
       "12"
      ]
     },
     "execution_count": 5,
     "metadata": {},
     "output_type": "execute_result"
    }
   ],
   "source": [
    "#Get Product Rating\n",
    "pdctrating = []\n",
    "def get_product_rating(soup):\n",
    "    rating = soup.find_all(\"div\" ,attrs = {'data-automation':\"rating-stars\"})\n",
    "    for r in rating:\n",
    "        r1 = r.get('aria-label')\n",
    "        pdctrating.append(r1)\n",
    "    return pdctrating\n",
    "ratings = get_product_rating(soup2)\n",
    "len(ratings)"
   ]
  },
  {
   "cell_type": "code",
   "execution_count": 6,
   "id": "bf348747",
   "metadata": {},
   "outputs": [
    {
     "data": {
      "text/plain": [
       "12"
      ]
     },
     "execution_count": 6,
     "metadata": {},
     "output_type": "execute_result"
    }
   ],
   "source": [
    "#Get Product Review Count\n",
    "pdctreviewcount = []\n",
    "def get_product_reviewcount(soup):\n",
    "    reviewcount = soup.find_all(\"span\" ,attrs = {'data-automation':\"rating-count\"})\n",
    "    for r in reviewcount:\n",
    "        r1 = r.get('aria-label')\n",
    "        pdctreviewcount.append(r1)\n",
    "    return pdctreviewcount\n",
    "review_count = get_product_reviewcount(soup2)\n",
    "len(review_count)"
   ]
  },
  {
   "cell_type": "code",
   "execution_count": 7,
   "id": "7b61c4d8",
   "metadata": {},
   "outputs": [],
   "source": [
    "#write all the data to a CSV file - OPTION 1\n",
    "rows = zip(pdctnames,pdctprices,pdctrating,pdctreviewcount)\n",
    "filePath = '/Users/brenda/Documents/projects/scrapedata/output.csv'\n",
    "with open(filePath,\"w\") as f:\n",
    "    writer = csv.writer(f)\n",
    "    for row in rows:\n",
    "        writer.writerow(row)"
   ]
  },
  {
   "cell_type": "code",
   "execution_count": 8,
   "id": "cf0b5b6c",
   "metadata": {},
   "outputs": [],
   "source": [
    "#convert the lists into a dataframe - OPTION 2\n",
    "filePath = r'/Users/brenda/Documents/projects/scrapedata/output.xlsx'\n",
    "d = { 'product_name': pdctnames, 'price': pdctprices , 'rating': pdctrating , 'reviews': pdctreviewcount }\n",
    "walmart_stroller_df = pd.DataFrame.from_dict(d)\n",
    "walmart_stroller_df.to_excel(filePath, index = False)"
   ]
  },
  {
   "cell_type": "code",
   "execution_count": null,
   "id": "e8b89845",
   "metadata": {},
   "outputs": [],
   "source": []
  }
 ],
 "metadata": {
  "kernelspec": {
   "display_name": "Python 3 (ipykernel)",
   "language": "python",
   "name": "python3"
  },
  "language_info": {
   "codemirror_mode": {
    "name": "ipython",
    "version": 3
   },
   "file_extension": ".py",
   "mimetype": "text/x-python",
   "name": "python",
   "nbconvert_exporter": "python",
   "pygments_lexer": "ipython3",
   "version": "3.10.9"
  }
 },
 "nbformat": 4,
 "nbformat_minor": 5
}
